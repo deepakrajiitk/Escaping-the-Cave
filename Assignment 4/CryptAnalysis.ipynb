{
 "cells": [
  {
   "cell_type": "code",
   "execution_count": 296,
   "id": "df6803b0",
   "metadata": {},
   "outputs": [],
   "source": [
    "import operator"
   ]
  },
  {
   "cell_type": "code",
   "execution_count": 297,
   "id": "f8df1661",
   "metadata": {},
   "outputs": [],
   "source": [
    "# Hexadecimal to binary conversion \n",
    "def hex2bin(s): \n",
    "    mp = {'0' : \"0000\",  \n",
    "          '1' : \"0001\", \n",
    "          '2' : \"0010\",  \n",
    "          '3' : \"0011\", \n",
    "          '4' : \"0100\", \n",
    "          '5' : \"0101\",  \n",
    "          '6' : \"0110\", \n",
    "          '7' : \"0111\",  \n",
    "          '8' : \"1000\", \n",
    "          '9' : \"1001\",  \n",
    "          'A' : \"1010\", \n",
    "          'B' : \"1011\",  \n",
    "          'C' : \"1100\", \n",
    "          'D' : \"1101\",  \n",
    "          'E' : \"1110\", \n",
    "          'F' : \"1111\" } \n",
    "    bin = \"\"\n",
    "    n1 = len(s)\n",
    "    for i in range(0,n1): \n",
    "        bin+=mp[s[i]] \n",
    "    return bin"
   ]
  },
  {
   "cell_type": "code",
   "execution_count": 298,
   "id": "b461bb18",
   "metadata": {},
   "outputs": [],
   "source": [
    "      \n",
    "# Binary to hexadecimal conversion \n",
    "def bin2hex(s): \n",
    "    mp = {\"0000\" : '0',  \n",
    "          \"0001\" : '1', \n",
    "          \"0010\" : '2',  \n",
    "          \"0011\" : '3', \n",
    "          \"0100\" : '4', \n",
    "          \"0101\" : '5',  \n",
    "          \"0110\" : '6', \n",
    "          \"0111\" : '7',  \n",
    "          \"1000\" : '8', \n",
    "          \"1001\" : '9',  \n",
    "          \"1010\" : 'A', \n",
    "          \"1011\" : 'B',  \n",
    "          \"1100\" : 'C', \n",
    "          \"1101\" : 'D',  \n",
    "          \"1110\" : 'E', \n",
    "          \"1111\" : 'F' } \n",
    "    hex = \"\" \n",
    "    n1= len(s)\n",
    "    for i in range(0,n1,4): \n",
    "        ch = \"\" \n",
    "        ch = ch + s[i] \n",
    "        ch = ch + s[i + 1]  \n",
    "        ch = ch + s[i + 2]  \n",
    "        ch = ch + s[i + 3]  \n",
    "        hex+=mp[ch] \n",
    "          \n",
    "    return hex\n",
    "  "
   ]
  },
  {
   "cell_type": "code",
   "execution_count": 299,
   "id": "ce0fac1e",
   "metadata": {},
   "outputs": [],
   "source": [
    "# Binary to decimal conversion \n",
    "def bin2dec(binary):  \n",
    "        \n",
    "    binary1 = binary  \n",
    "    decimal, i, n = 0, 0, 0\n",
    "    while(binary != 0):  \n",
    "        dec = binary % 10\n",
    "        decimal = decimal + dec * pow(2, i)  \n",
    "        binary = binary//10\n",
    "        i += 1\n",
    "    return decimal \n",
    "  "
   ]
  },
  {
   "cell_type": "code",
   "execution_count": 300,
   "id": "25815766",
   "metadata": {},
   "outputs": [],
   "source": [
    "# Decimal to binary conversion \n",
    "def dec2bin(num):  \n",
    "    res = bin(num).replace(\"0b\", \"\") \n",
    "    if(len(res)%4 != 0): \n",
    "        div = len(res) / 4\n",
    "        div = int(div) \n",
    "        counter =(4 * (div + 1)) - len(res)  \n",
    "        for i in range(0, counter): \n",
    "            res = '0' + res \n",
    "    return res \n",
    "  "
   ]
  },
  {
   "cell_type": "code",
   "execution_count": 301,
   "id": "ae61815b",
   "metadata": {},
   "outputs": [],
   "source": [
    "# Permute function to rearrange the bits \n",
    "def permute(k, arr, n): \n",
    "    permutation = \"\" \n",
    "    for i in range(0, n): \n",
    "        permutation = permutation + k[arr[i] - 1] \n",
    "    return permutation \n",
    "  \n",
    "# shifting the bits towards left by nth shifts \n",
    "def shift_left(k, nth_shifts): \n",
    "    s = \"\" \n",
    "    for i in range(nth_shifts):\n",
    "        n2 = len(k)\n",
    "        for j in range(1,n2): \n",
    "            s+= k[j] \n",
    "        s+= k[0] \n",
    "        k = s \n",
    "        s = \"\"  \n",
    "    return k     \n",
    "  "
   ]
  },
  {
   "cell_type": "code",
   "execution_count": 302,
   "id": "769af6f1",
   "metadata": {},
   "outputs": [],
   "source": [
    "# calculating xor of two strings of binary number a and b \n",
    "def xor(a, b): \n",
    "    ans = \"\"\n",
    "    n2 = len(a)\n",
    "    for i in range(0,n2): \n",
    "        if a[i] == b[i]: \n",
    "            ans+=\"0\"\n",
    "        else: \n",
    "            ans+=\"1\"\n",
    "    return ans "
   ]
  },
  {
   "cell_type": "code",
   "execution_count": 303,
   "id": "c0a680db",
   "metadata": {},
   "outputs": [],
   "source": [
    "#\n",
    "#Permutation matrix 1 for key schedule\n",
    "pc1=[                  \n",
    "  57, 49, 41, 33, 25, 17, 9,\n",
    "  1, 58, 50, 42, 34, 26, 18,\n",
    "  10,  2, 59, 51, 43, 35, 27,\n",
    "  19, 11,  3, 60, 52, 44, 36,\n",
    "  63, 55, 47, 39, 31, 23, 15, \n",
    "  7, 62, 54, 46, 38, 30, 22, \n",
    "  14,  6, 61, 53, 45, 37, 29, \n",
    "  21, 13,  5, 28, 20, 12,  4\n",
    "]"
   ]
  },
  {
   "cell_type": "code",
   "execution_count": 304,
   "id": "ac6007e4",
   "metadata": {},
   "outputs": [],
   "source": [
    "#Permutation matrix 2 for key schedule\n",
    "pc2 = [                 \n",
    "  14, 17, 11, 24,  1, 5, \n",
    "  3, 28 ,15,  6, 21, 10, \n",
    "  23, 19, 12,  4, 26, 8, \n",
    "  16,  7, 27, 20, 13, 2, \n",
    "  41, 52, 31, 37, 47, 55, \n",
    "  30, 40, 51, 45, 33, 48, \n",
    "  44, 49, 39, 56, 34, 53, \n",
    "  46, 42, 50, 36, 29, 32\n",
    "]"
   ]
  },
  {
   "cell_type": "code",
   "execution_count": 305,
   "id": "4a8fbcad",
   "metadata": {},
   "outputs": [],
   "source": [
    "#Inverse of P\n",
    "INV_P = [9, 17, 23, 31,\n",
    "\t      13, 28,  2, 18,\n",
    "\t      24, 16, 30,  6,\n",
    "\t      26, 20, 10,  1,\n",
    "\t       8, 14, 25,  3,\n",
    "\t       4, 29, 11, 19,\n",
    "\t      32, 12, 22,  7,\n",
    "\t       5, 27, 15, 21\n",
    "         ]"
   ]
  },
  {
   "cell_type": "code",
   "execution_count": 306,
   "id": "8536e425",
   "metadata": {},
   "outputs": [],
   "source": [
    "# Table of Position of 64 bits at initail level: Initial Permutation Table \n",
    "initial_perm = [58, 50, 42, 34, 26, 18, 10, 2,  \n",
    "                60, 52, 44, 36, 28, 20, 12, 4,  \n",
    "                62, 54, 46, 38, 30, 22, 14, 6,  \n",
    "                64, 56, 48, 40, 32, 24, 16, 8,  \n",
    "                57, 49, 41, 33, 25, 17, 9, 1,  \n",
    "                59, 51, 43, 35, 27, 19, 11, 3,  \n",
    "                61, 53, 45, 37, 29, 21, 13, 5,  \n",
    "                63, 55, 47, 39, 31, 23, 15, 7]  \n",
    "  "
   ]
  },
  {
   "cell_type": "code",
   "execution_count": 307,
   "id": "63f03c5c",
   "metadata": {},
   "outputs": [],
   "source": [
    "# Expansion E-box Table \n",
    "exp_d = [32, 1 , 2 , 3 , 4 , 5 , 4 , 5,  \n",
    "         6 , 7 , 8 , 9 , 8 , 9 , 10, 11,  \n",
    "         12, 13, 12, 13, 14, 15, 16, 17,  \n",
    "         16, 17, 18, 19, 20, 21, 20, 21,  \n",
    "         22, 23, 24, 25, 24, 25, 26, 27,  \n",
    "         28, 29, 28, 29, 30, 31, 32, 1 ] \n",
    "  "
   ]
  },
  {
   "cell_type": "code",
   "execution_count": 308,
   "id": "ffeaf1e8",
   "metadata": {},
   "outputs": [],
   "source": [
    "# Straight Permutaion Table \n",
    "per = [ 16,  7, 20, 21, \n",
    "        29, 12, 28, 17,  \n",
    "         1, 15, 23, 26,  \n",
    "         5, 18, 31, 10,  \n",
    "         2,  8, 24, 14,  \n",
    "        32, 27,  3,  9,  \n",
    "        19, 13, 30,  6,  \n",
    "        22, 11,  4, 25 ] \n",
    "  "
   ]
  },
  {
   "cell_type": "code",
   "execution_count": 309,
   "id": "b319a9dd",
   "metadata": {},
   "outputs": [],
   "source": [
    "# S-box Table \n",
    "sbox = [[[14, 4, 13, 1, 2, 15, 11, 8, 3 , 10, 6, 12, 5, 9, 0, 7],\n",
    "    [0, 15, 7, 4, 14, 2, 13, 1, 10, 6, 12, 11, 9, 5, 3, 8],\n",
    "    [4, 1 , 14, 8, 13, 6, 2, 11, 15, 12, 9, 7,3, 10, 5, 0],\n",
    "    [15, 12, 8,2,4, 9, 1,7 , 5, 11, 3, 14, 10, 0, 6, 13]],\n",
    "\n",
    "    [[15, 1, 8, 14, 6, 11, 3, 4, 9, 7, 2, 13, 12, 0,5, 10],\n",
    "    [3, 13, 4, 7, 15, 2, 8, 14, 12, 0, 1, 10, 6, 9, 11, 5],\n",
    "    [0, 14, 7, 11, 10, 4, 13, 1, 5, 8,12, 6, 9, 3, 2, 15],\n",
    "    [13, 8, 10, 1, 3, 15, 4, 2,11,6, 7, 12, 0,5, 14, 9]],\n",
    "\n",
    "    [[10, 0, 9,14,6,3,15,5, 1, 13, 12, 7, 11, 4,2,8],\n",
    "    [13, 7, 0, 9, 3, 4, 6, 10, 2, 8, 5, 14, 12, 11, 15, 1],\n",
    "    [13, 6, 4, 9, 8, 15, 3, 0, 11, 1, 2, 12,5, 10, 14, 7],\n",
    "    [1, 10, 13, 0, 6, 9, 8, 7, 4, 15, 14, 3, 11, 5, 2, 12]],\n",
    "\n",
    "    [[7, 13, 14, 3, 0, 6, 9, 10, 1, 2, 8, 5, 11, 12, 4, 15],\n",
    "    [13, 8, 11, 5, 6, 15, 0, 3, 4, 7, 2, 12, 1, 10, 14, 9],\n",
    "    [10, 6, 9, 0, 12, 11, 7, 13, 15, 1 , 3, 14, 5, 2, 8, 4],\n",
    "    [3, 15, 0, 6, 10, 1, 13, 8, 9, 4, 5, 11, 12, 7, 2, 14]],\n",
    "\n",
    "    [[2, 12, 4, 1, 7, 10, 11, 6, 8, 5, 3, 15, 13, 0, 14, 9],\n",
    "    [14, 11,2, 12, 4, 7, 13, 1, 5, 0, 15, 10, 3, 9, 8, 6],\n",
    "    [4, 2, 1, 11, 10, 13, 7, 8, 15, 9, 12, 5, 6, 3, 0, 14],\n",
    "    [11, 8, 12, 7, 1, 14, 2, 13, 6, 15, 0, 9, 10, 4, 5, 3]],\n",
    "\n",
    "    [[12, 1, 10, 15, 9, 2, 6,8, 0, 13, 3, 4, 14, 7, 5, 11],\n",
    "    [10, 15, 4, 2, 7, 12, 9, 5, 6, 1, 13, 14, 0, 11, 3, 8],\n",
    "    [9, 14, 15, 5, 2,8, 12, 3, 7, 0, 4, 10, 1, 13, 11, 6],\n",
    "    [4, 3, 2, 12, 9, 5, 15, 10, 11, 14, 1, 7, 6, 0, 8, 13]],\n",
    "\n",
    "    [[4, 11, 2, 14, 15, 0, 8, 13, 3, 12, 9, 7, 5, 10, 6, 1],\n",
    "    [13, 0, 11, 7, 4, 9, 1, 10, 14, 3, 5, 12, 2, 15, 8, 6],\n",
    "    [1, 4, 11, 13, 12, 3, 7, 14, 10, 15, 6, 8, 0, 5, 9, 2],\n",
    "    [6, 11, 13, 8, 1, 4, 10, 7, 9, 5, 0, 15, 14, 2, 3, 12]],\n",
    "\n",
    "    [[13, 2, 8, 4, 6, 15, 11, 1, 10, 9, 3, 14, 5, 0, 12,7],\n",
    "    [1, 15, 13, 8, 10, 3, 7, 4, 12, 5, 6, 11, 0, 14, 9, 2],\n",
    "    [7, 11, 4, 1, 9, 12, 14, 2, 0, 6, 10, 13, 15, 3, 5, 8],\n",
    "    [2, 1, 14, 7, 4, 10, 8, 13, 15, 12, 9, 0, 3, 5, 6, 11]]] \n",
    "    "
   ]
  },
  {
   "cell_type": "code",
   "execution_count": 310,
   "id": "5b9b0070",
   "metadata": {},
   "outputs": [],
   "source": [
    "final_perm = [ 40, 8, 48, 16, 56, 24, 64, 32,  \n",
    "               39, 7, 47, 15, 55, 23, 63, 31,  \n",
    "               38, 6, 46, 14, 54, 22, 62, 30,  \n",
    "               37, 5, 45, 13, 53, 21, 61, 29,  \n",
    "               36, 4, 44, 12, 52, 20, 60, 28,  \n",
    "               35, 3, 43, 11, 51, 19, 59, 27,  \n",
    "               34, 2, 42, 10, 50, 18, 58, 26,  \n",
    "               33, 1, 41, 9, 49, 17, 57, 25 ] "
   ]
  },
  {
   "cell_type": "code",
   "execution_count": 311,
   "id": "9771513b",
   "metadata": {},
   "outputs": [],
   "source": [
    "f2u_mapping={\n",
    "           'd' : '0000',\n",
    "           'e' : '0001',\n",
    "           'f' : '0010',\n",
    "           'g' : '0011',\n",
    "           'h' : '0100',\n",
    "           'i' : '0101',\n",
    "           'j' : '0110',\n",
    "           'k' : '0111',\n",
    "           'l' : '1000',\n",
    "           'm' : '1001',\n",
    "           'n' : '1010',\n",
    "           'o' : '1011',\n",
    "           'p' : '1100',\n",
    "           'q' : '1101',\n",
    "           'r' : '1110',\n",
    "           's' : '1111'\n",
    "           }\n",
    "     "
   ]
  },
  {
   "cell_type": "code",
   "execution_count": 312,
   "id": "1ed30a0f",
   "metadata": {},
   "outputs": [],
   "source": [
    "# --parity bit drop table \n",
    "keyp = [57, 49, 41, 33, 25, 17, 9,  \n",
    "        1, 58, 50, 42, 34, 26, 18,  \n",
    "        10, 2, 59, 51, 43, 35, 27,  \n",
    "        19, 11, 3, 60, 52, 44, 36,  \n",
    "        63, 55, 47, 39, 31, 23, 15,  \n",
    "        7, 62, 54, 46, 38, 30, 22,  \n",
    "        14, 6, 61, 53, 45, 37, 29,  \n",
    "        21, 13, 5, 28, 20, 12, 4 ] "
   ]
  },
  {
   "cell_type": "code",
   "execution_count": 313,
   "id": "f25c43c8",
   "metadata": {},
   "outputs": [],
   "source": [
    "RFP = [57, 49, 41, 33, 25, 17, 9,  1,\n",
    "       59, 51, 43, 35, 27, 19, 11, 3,\n",
    "       61, 53, 45, 37, 29, 21, 13, 5,\n",
    "       63, 55, 47, 39, 31, 23, 15, 7,\n",
    "       58, 50, 42, 34, 26, 18, 10, 2,\n",
    "       60, 52, 44, 36, 28, 20, 12, 4,\n",
    "       62, 54, 46, 38, 30, 22, 14, 6,\n",
    "       64, 56, 48, 40, 32, 24, 16, 8]"
   ]
  },
  {
   "cell_type": "code",
   "execution_count": 314,
   "id": "0511d22d",
   "metadata": {},
   "outputs": [],
   "source": [
    "#shift table \n",
    "shift_table = [1, 1, 2, 2,  \n",
    "                2, 2, 2, 2,  \n",
    "                1, 2, 2, 2,  \n",
    "                2, 2, 2, 1 ] \n",
    "  "
   ]
  },
  {
   "cell_type": "code",
   "execution_count": 315,
   "id": "c97d938e",
   "metadata": {},
   "outputs": [],
   "source": [
    "# Key- Compression Table : Compression of key from 56 bits to 48 bits \n",
    "key_comp = [14, 17, 11, 24, 1, 5,  \n",
    "            3, 28, 15, 6, 21, 10,  \n",
    "            23, 19, 12, 4, 26, 8,  \n",
    "            16, 7, 27, 20, 13, 2,  \n",
    "            41, 52, 31, 37, 47, 55,  \n",
    "            30, 40, 51, 45, 33, 48,  \n",
    "            44, 49, 39, 56, 34, 53,  \n",
    "            46, 42, 50, 36, 29, 32 ] \n",
    "  "
   ]
  },
  {
   "cell_type": "markdown",
   "id": "9e5d4084",
   "metadata": {},
   "source": [
    "## Computing XORs at IN and OUT of S-boxes for characteristic 1"
   ]
  },
  {
   "cell_type": "code",
   "execution_count": 316,
   "id": "293067a9",
   "metadata": {},
   "outputs": [],
   "source": [
    "import numpy as np"
   ]
  },
  {
   "cell_type": "code",
   "execution_count": 317,
   "id": "3cfac15d",
   "metadata": {},
   "outputs": [],
   "source": [
    "#create hex mapping of 16 letters present in ciphertext. f=0, g=1 ,so on...\n",
    "mapping = {\n",
    "           'd' : [0,0,0,0],\n",
    "           'e' : [0,0,0,1],\n",
    "           'f' : [0,0,1,0],\n",
    "           'g' : [0,0,1,1],\n",
    "           'h' : [0,1,0,0],\n",
    "           'i' : [0,1,0,1],\n",
    "           'j' : [0,1,1,0],\n",
    "           'k' : [0,1,1,1],\n",
    "           'l' : [1,0,0,0],\n",
    "           'm' : [1,0,0,1],\n",
    "           'n' : [1,0,1,0],\n",
    "           'o' : [1,0,1,1],\n",
    "           'p' : [1,1,0,0],\n",
    "           'q' : [1,1,0,1],\n",
    "           'r' : [1,1,1,0],\n",
    "           's' : [1,1,1,1]\n",
    "           }"
   ]
  },
  {
   "cell_type": "code",
   "execution_count": 318,
   "id": "2b930f9f",
   "metadata": {},
   "outputs": [],
   "source": [
    "#list of all ciphertexts in hex as per mapping\n",
    "cipher=[]\n",
    "#read in the output file after encrypting plaintexts from input.txt\n",
    "lines = open(\"ciphertexts1.txt\").read().split(\"\\n\")\n",
    "\n",
    "n=len(lines)\n",
    "for i in range(0,n):\n",
    "  #checking if a ciphertext is not of 16 letters\n",
    "    if(len(lines[i]) == 16):\n",
    "        #temp list\n",
    "        st=[]\n",
    "        for j in range(16):\n",
    "            st+=mapping[lines[i][j]]\n",
    "        cipher+=[st]    \n",
    "#print(cipher[0])"
   ]
  },
  {
   "cell_type": "code",
   "execution_count": 319,
   "id": "9beab147",
   "metadata": {},
   "outputs": [],
   "source": [
    "#applying inverse final permutation on each 64 (=16*4) bit ciphertext\n",
    "n=len(cipher)\n",
    "ifp_res = []\n",
    "for i in range(0,n):\n",
    "    ifp_res2 = []\n",
    "    for j in range(64):\n",
    "        ifp_res2+=[cipher[i][RFP[j]-1]]\n",
    "    ifp_res+=[ifp_res2]\n",
    "#print(ifp_res2[0:10])"
   ]
  },
  {
   "cell_type": "code",
   "execution_count": 320,
   "id": "bfd8faa6",
   "metadata": {},
   "outputs": [],
   "source": [
    "#XOR of inverse permuted ciphertext's result\n",
    "ifp_XOR=[]\n",
    "for i in range(0,n//2):\n",
    "    ifp_XOR+= [list(np.bitwise_xor(ifp_res[2*i+1],ifp_res[2*i]))]"
   ]
  },
  {
   "cell_type": "code",
   "execution_count": 321,
   "id": "52cc2e99",
   "metadata": {},
   "outputs": [],
   "source": [
    "#Expansion of R5\n",
    "exp_out=[]\n",
    "for i in range(0,n):\n",
    "    exp_out2=[]\n",
    "    for j in range(0,48):\n",
    "        exp_out2+=[ifp_res[i][exp_d[j]-1]]\n",
    "    exp_out+=[exp_out2]\n",
    "#print(exp_out[0])"
   ]
  },
  {
   "cell_type": "code",
   "execution_count": 322,
   "id": "76bf588e",
   "metadata": {},
   "outputs": [],
   "source": [
    "#XOR of expanded outputs to find inputs to s-boxes\n",
    "sbox_in=[]\n",
    "for i in range(0,n//2):\n",
    "    sbox_in+= [list(np.bitwise_xor(exp_out[2*i+1],exp_out[2*i]))]\n",
    "#print(sbox_in[0])            "
   ]
  },
  {
   "cell_type": "code",
   "execution_count": 323,
   "id": "52b532cb",
   "metadata": {},
   "outputs": [],
   "source": [
    "#XOR of L5 and R6 from inverse permuted ciphertexts\n",
    "L5 = [0,0,0,0,0,1]+[0]*26\n",
    "xor_out=[]\n",
    "for i in range(0,len(ifp_XOR)):\n",
    "    xor_out+=[list(np.bitwise_xor(ifp_XOR[i][32:64],L5))]"
   ]
  },
  {
   "cell_type": "code",
   "execution_count": 324,
   "id": "14262c5e",
   "metadata": {},
   "outputs": [],
   "source": [
    "#XOR of outputs after s-boxes\n",
    "sbox_out = []\n",
    "for i in range(0,len(xor_out)):\n",
    "    sbox_out2=[]\n",
    "    for j in range(0,32):\n",
    "        sbox_out2+=[xor_out[i][INV_P[j]-1]]\n",
    "    sbox_out+=[sbox_out2]"
   ]
  },
  {
   "cell_type": "code",
   "execution_count": 325,
   "id": "f665af64",
   "metadata": {},
   "outputs": [],
   "source": [
    "#storing expanded outputs\n",
    "with open(\"exp_out1.txt\",\"w\") as f:\n",
    "    n1 = len(exp_out)\n",
    "    for i in range(0,n1):\n",
    "        if(i%2!=1):\n",
    "            temp=\"\"\n",
    "            for j in exp_out[i]:\n",
    "                temp+=str(j)\n",
    "            f.write(temp+\"\\n\")\n",
    "f.close()"
   ]
  },
  {
   "cell_type": "code",
   "execution_count": 326,
   "id": "294fff4b",
   "metadata": {},
   "outputs": [],
   "source": [
    "#storing inputs to s-boxes\n",
    "with open(\"sbox_in1.txt\",\"w\") as f:\n",
    "    for i in sbox_in:\n",
    "        temp=\"\"\n",
    "        for j in i:\n",
    "            temp+=str(j)\n",
    "        f.write(temp+\"\\n\")\n",
    "f.close()"
   ]
  },
  {
   "cell_type": "code",
   "execution_count": 327,
   "id": "49f4f691",
   "metadata": {},
   "outputs": [],
   "source": [
    "#storing outputs of s-boxes\n",
    "with open(\"sbox_out1.txt\",\"w\") as f:\n",
    "    for i in sbox_out:\n",
    "        temp=\"\"\n",
    "        for j in i:\n",
    "            temp+=str(j)\n",
    "        f.write(temp+\"\\n\")\n",
    "f.close()"
   ]
  },
  {
   "cell_type": "markdown",
   "id": "4f1ed604",
   "metadata": {},
   "source": [
    "## Finding the Keys for S-Boxes of Round 6 for characteristic 1"
   ]
  },
  {
   "cell_type": "code",
   "execution_count": 328,
   "id": "c805d80d",
   "metadata": {},
   "outputs": [],
   "source": [
    "Keys = np.zeros((8,64))"
   ]
  },
  {
   "cell_type": "code",
   "execution_count": 329,
   "id": "80bd44db",
   "metadata": {},
   "outputs": [],
   "source": [
    "sbox_in=[]\n",
    "sbox_out=[]\n",
    "exp_out=[]\n",
    "sbox_in = open(\"sbox_in1.txt\").read().split(\"\\n\")\n",
    "sbox_out = open(\"sbox_out1.txt\").read().split(\"\\n\")\n",
    "exp_out = open(\"exp_out1.txt\").read().split(\"\\n\")"
   ]
  },
  {
   "cell_type": "code",
   "execution_count": 330,
   "id": "907f1b1d",
   "metadata": {},
   "outputs": [],
   "source": [
    "for i in range(len(sbox_in)):\n",
    "    if sbox_in[i]==\"\":\n",
    "        continue     \n",
    "    for j in range(0,8):\n",
    "        inx = int(sbox_in[i][j*6:j*6+6], 2)\n",
    "        outx = int(sbox_out[i][j*4:j*4+4], 2)\n",
    "        inp_orig = int(exp_out[i][j*6:j*6+6], 2)\n",
    "        for k in range(0,64):\n",
    "            a = bin(k)[2:].zfill(6)\n",
    "            b = bin(k^inx)[2:].zfill(6)  \n",
    "            if outx == sbox[j][int(a[0])*2 + int(a[5])][int(a[4]) + 2 *int(a[3]) + int(a[2]) * 4 + int(a[1])*8]^sbox[j][int(b[0])*2 + int(b[5])][int(b[4]) + 2 *int(b[3]) + int(b[2]) * 4 + int(b[1])*8]:\n",
    "                key_cand = k^inp_orig\n",
    "                Keys[j][key_cand] = Keys[j][key_cand] + 1"
   ]
  },
  {
   "cell_type": "code",
   "execution_count": 331,
   "id": "114c6fd0",
   "metadata": {
    "scrolled": false
   },
   "outputs": [
    {
     "name": "stdout",
     "output_type": "stream",
     "text": [
      "[[ 54.  59.  62.  66.  69.  63.  72.  60.  63.  73.  68.  64.  68.  58.\n",
      "   63.  64.  75.  56.  72.  71.  71.  49.  60.  57.  59.  71.  52.  64.\n",
      "   60.  63.  62.  69.  51.  59.  65.  65.  56.  57.  57.  46.  54.  49.\n",
      "   62.  54.  57.  93.  54.  64.  46.  56.  55.  63.  73.  68.  75.  66.\n",
      "   60.  58.  47.  61.  57.  70.  63.  54.]\n",
      " [ 71.  49.  69.  66.  80.  73.  74.  68.  66.  73.  66.  65.  69.  78.\n",
      "   80.  62.  53.  76.  72.  88.  63.  66.  64.  76.  69.  54.  70.  51.\n",
      "   74.  76.  69.  70.  72.  65.  65.  73.  74.  65.  66.  69.  70.  60.\n",
      "   72.  62.  71.  68.  57.  75.  79.  73.  63. 211.  61.  67.  65.  72.\n",
      "   60.  56.  50.  87.  70.  70.  64.  72.]\n",
      " [ 67.  64.  64.  59.  57.  54.  74.  49.  54.  70.  57.  75.  55.  60.\n",
      "   48.  62.  64.  71.  57.  72.  71.  58.  70.  66.  49.  67.  64.  66.\n",
      "   57.  73.  65.  62.  59.  57.  60.  63.  72.  97.  65.  66.  70.  65.\n",
      "   65.  71.  58.  59.  68.  59.  67.  73.  78.  54.  65.  59.  62.  71.\n",
      "   59.  75.  69.  68.  74.  60.  60.  69.]\n",
      " [ 55.  58.  67.  70.  59.  53.  73.  82.  64.  55.  65.  60.  53.  61.\n",
      "   51.  65.  64.  63.  62.  60.  56.  72.  70.  75.  57.  52.  71.  70.\n",
      "   65.  60.  68.  70.  68.  57.  54.  74.  66.  54.  66.  65.  87.  72.\n",
      "   56.  61.  62.  76.  47.  57.  69.  66.  60.  67.  68.  74.  64.  53.\n",
      "   77.  85.  53.  58.  69.  64.  60.  61.]\n",
      " [ 77.  75.  60.  81.  72.  71.  77.  81.  63.  70.  71.  67.  66.  61.\n",
      "   75.  68.  80.  66.  58.  68.  70. 113.  72.  69.  61.  60.  64.  50.\n",
      "   75.  61.  65.  75.  70.  69.  60.  70.  59.  71.  61.  70.  66.  58.\n",
      "   67.  66.  70.  88.  73.  67.  63.  63.  75.  61.  69.  63.  70.  75.\n",
      "   76.  63.  72.  65.  70.  57.  74.  67.]\n",
      " [ 67.  76.  70.  65.  69.  69.  62.  63.  55.  61.  62.  68.  70.  55.\n",
      "   62.  81.  53.  57.  71.  66.  78.  76. 193.  70.  60.  84.  77.  63.\n",
      "   72.  71.  63.  69.  62.  74.  63.  63.  72.  51.  49.  64.  69.  71.\n",
      "   70.  60.  58.  82.  65.  68.  68.  62.  63.  58.  69.  53.  56.  63.\n",
      "   69.  74.  47.  57.  64.  65.  53.  56.]\n",
      " [ 58.  56.  66.  54.  62.  57.  65.  57.  68.  61.  64.  57. 126.  63.\n",
      "   55.  65.  69.  62.  59.  73.  61.  62.  66.  60.  67.  64.  63.  54.\n",
      "   56.  60.  67.  63.  56.  69.  56.  76.  68.  61.  67.  60.  66.  57.\n",
      "   66.  63.  70.  65.  70.  66.  83.  69.  64.  65.  69.  66.  55.  65.\n",
      "   80.  66.  67.  55.  66.  80.  50.  62.]\n",
      " [ 60.  68.  67.  70.  67.  73.  49.  66.  70.  68.  64.  72.  68.  66.\n",
      "   79.  57.  78.  67.  50.  65.  79.  72.  74.  65.  61.  56.  70.  67.\n",
      "   74.  65.  62.  55.  68.  63.  71.  79.  72.  66.  72.  60.  63.  67.\n",
      "   66.  56.  77.  78.  64.  64.  66.  72.  72.  59.  74.  68. 135.  85.\n",
      "   64.  63.  80.  67.  68.  74.  67.  60.]]\n"
     ]
    }
   ],
   "source": [
    "print(Keys)"
   ]
  },
  {
   "cell_type": "code",
   "execution_count": 332,
   "id": "7a230203",
   "metadata": {},
   "outputs": [
    {
     "name": "stdout",
     "output_type": "stream",
     "text": [
      "S-box\tMax\tMean\tKey\n",
      "S1\t93\t62\t45\n",
      "S2\t211\t70\t51\n",
      "S3\t97\t64\t37\n",
      "S4\t87\t64\t40\n",
      "S5\t113\t69\t21\n",
      "S6\t193\t67\t22\n",
      "S7\t126\t65\t12\n",
      "S8\t135\t68\t54\n"
     ]
    }
   ],
   "source": [
    "maxval = []\n",
    "mean = []\n",
    "keyval = []\n",
    "for i in Keys:\n",
    "    index, value = max(enumerate(i), key=operator.itemgetter(1))\n",
    "    maxval+=[int(value)]\n",
    "    keyval+=[index]\n",
    "    mean+=[int(round(np.mean(i)))]\n",
    "print(\"S-box\"+ \"\\t\" +\"Max\" + \"\\t\" + \"Mean\" + \"\\t\" + \"Key\")\n",
    "for i in range(0,8):\n",
    "    print(\"S\"+ str(i+1) +\"\\t\"+ str(maxval[i]) + \"\\t\" + str(mean[i]) + \"\\t\" + str(keyval[i]))"
   ]
  },
  {
   "cell_type": "markdown",
   "id": "6c53f929",
   "metadata": {},
   "source": [
    "## Computing XORs at IN and OUT of S-boxes for characteristic 2"
   ]
  },
  {
   "cell_type": "code",
   "execution_count": 333,
   "id": "ec7d7c20",
   "metadata": {},
   "outputs": [],
   "source": [
    "#list of all ciphertexts in hex as per mapping\n",
    "cipher=[]\n",
    "#read in the output file after encrypting plaintexts from input.txt\n",
    "lines = open(\"ciphertexts2.txt\").read().split(\"\\n\")\n",
    "\n",
    "n=len(lines)\n",
    "for i in range(0,n):\n",
    "  #checking if a ciphertext is not of 16 letters\n",
    "    if(len(lines[i]) == 16):\n",
    "        #temp list\n",
    "        st=[]\n",
    "        for j in range(16):\n",
    "            st+=mapping[lines[i][j]]\n",
    "        cipher+=[st]    \n",
    "#print(cipher[0])"
   ]
  },
  {
   "cell_type": "code",
   "execution_count": 334,
   "id": "762288c5",
   "metadata": {},
   "outputs": [],
   "source": [
    "#applying inverse final permutation on each 64 (=16*4) bit ciphertext\n",
    "n=len(cipher)\n",
    "ifp_res = []\n",
    "for i in range(0,n):\n",
    "    ifp_res2 = []\n",
    "    for j in range(64):\n",
    "        ifp_res2+=[cipher[i][RFP[j]-1]]\n",
    "    ifp_res+=[ifp_res2]\n",
    "#print(ifp_res2[0:10])"
   ]
  },
  {
   "cell_type": "code",
   "execution_count": 335,
   "id": "1d68bc43",
   "metadata": {},
   "outputs": [],
   "source": [
    "#XOR of inverse permuted ciphertext's result\n",
    "ifp_XOR=[]\n",
    "for i in range(0,n//2):\n",
    "    ifp_XOR+= [list(np.bitwise_xor(ifp_res[2*i+1],ifp_res[2*i]))]"
   ]
  },
  {
   "cell_type": "code",
   "execution_count": 336,
   "id": "f2c77f49",
   "metadata": {},
   "outputs": [],
   "source": [
    "#Expansion of R5\n",
    "exp_out=[]\n",
    "for i in range(0,n):\n",
    "    exp_out2=[]\n",
    "    for j in range(0,48):\n",
    "        exp_out2+=[ifp_res[i][exp_d[j]-1]]\n",
    "    exp_out+=[exp_out2]\n",
    "#print(exp_out[0])"
   ]
  },
  {
   "cell_type": "code",
   "execution_count": 337,
   "id": "093d81dd",
   "metadata": {},
   "outputs": [],
   "source": [
    "#XOR of expanded outputs to find inputs to s-boxes\n",
    "sbox_in=[]\n",
    "for i in range(0,n//2):\n",
    "    sbox_in+= [list(np.bitwise_xor(exp_out[2*i+1],exp_out[2*i]))]\n",
    "#print(sbox_in[0])            "
   ]
  },
  {
   "cell_type": "code",
   "execution_count": 338,
   "id": "bb0921a6",
   "metadata": {},
   "outputs": [],
   "source": [
    "#XOR of L5 and R6 from inverse permuted ciphertexts\n",
    "L5 = [0,0,0,0,0,0,0,0,0,0,0,0,0,0,0,0,0,0,0,0,0,1,0,0,0,0,0,0,0,0,0,0]\n",
    "# print(len(L5))\n",
    "xor_out=[]\n",
    "for i in range(0,len(ifp_XOR)):\n",
    "    xor_out+=[list(np.bitwise_xor(ifp_XOR[i][32:64],L5))]"
   ]
  },
  {
   "cell_type": "code",
   "execution_count": 339,
   "id": "a7b5cba3",
   "metadata": {},
   "outputs": [],
   "source": [
    "#XOR of outputs after s-boxes\n",
    "sbox_out = []\n",
    "for i in range(0,len(xor_out)):\n",
    "    sbox_out2=[]\n",
    "    for j in range(0,32):\n",
    "        sbox_out2+=[xor_out[i][INV_P[j]-1]]\n",
    "    sbox_out+=[sbox_out2]"
   ]
  },
  {
   "cell_type": "code",
   "execution_count": 340,
   "id": "656e9a97",
   "metadata": {},
   "outputs": [],
   "source": [
    "#storing expanded outputs\n",
    "with open(\"exp_out2.txt\",\"w\") as f:\n",
    "    n1 = len(exp_out)\n",
    "    for i in range(0,n1):\n",
    "        if(i%2!=1):\n",
    "            temp=\"\"\n",
    "            for j in exp_out[i]:\n",
    "                temp+=str(j)\n",
    "            f.write(temp+\"\\n\")\n",
    "f.close()"
   ]
  },
  {
   "cell_type": "code",
   "execution_count": 341,
   "id": "c22324d3",
   "metadata": {},
   "outputs": [],
   "source": [
    "#storing inputs to s-boxes\n",
    "with open(\"sbox_in2.txt\",\"w\") as f:\n",
    "    for i in sbox_in:\n",
    "        temp=\"\"\n",
    "        for j in i:\n",
    "            temp+=str(j)\n",
    "        f.write(temp+\"\\n\")\n",
    "f.close()"
   ]
  },
  {
   "cell_type": "code",
   "execution_count": 342,
   "id": "1c5d5dcd",
   "metadata": {},
   "outputs": [],
   "source": [
    "#storing outputs of s-boxes\n",
    "with open(\"sbox_out2.txt\",\"w\") as f:\n",
    "    for i in sbox_out:\n",
    "        temp=\"\"\n",
    "        for j in i:\n",
    "            temp+=str(j)\n",
    "        f.write(temp+\"\\n\")\n",
    "f.close()"
   ]
  },
  {
   "cell_type": "markdown",
   "id": "ab687ea1",
   "metadata": {},
   "source": [
    "## Finding the Keys for S-Boxes of Round 6 for characteristic 2"
   ]
  },
  {
   "cell_type": "code",
   "execution_count": 343,
   "id": "2ab9136d",
   "metadata": {},
   "outputs": [],
   "source": [
    "Keys = np.zeros((8,64))"
   ]
  },
  {
   "cell_type": "code",
   "execution_count": 344,
   "id": "4e2bfc79",
   "metadata": {},
   "outputs": [],
   "source": [
    "sbox_in=[]\n",
    "sbox_out=[]\n",
    "exp_out=[]\n",
    "sbox_in = open(\"sbox_in2.txt\").read().split(\"\\n\")\n",
    "sbox_out = open(\"sbox_out2.txt\").read().split(\"\\n\")\n",
    "exp_out = open(\"exp_out2.txt\").read().split(\"\\n\")"
   ]
  },
  {
   "cell_type": "code",
   "execution_count": 345,
   "id": "3e405cd7",
   "metadata": {},
   "outputs": [],
   "source": [
    "for i in range(len(sbox_in)):\n",
    "    if sbox_in[i]==\"\":\n",
    "        continue     \n",
    "    for j in range(0,8):\n",
    "        inx = int(sbox_in[i][j*6:j*6+6], 2)\n",
    "        outx = int(sbox_out[i][j*4:j*4+4], 2)\n",
    "        inp_orig = int(exp_out[i][j*6:j*6+6], 2)\n",
    "        for k in range(0,64):\n",
    "            a = bin(k)[2:].zfill(6)\n",
    "            b = bin(k^inx)[2:].zfill(6)  \n",
    "            if outx == sbox[j][int(a[0])*2 + int(a[5])][int(a[4]) + 2 *int(a[3]) + int(a[2]) * 4 + int(a[1])*8]^sbox[j][int(b[0])*2 + int(b[5])][int(b[4]) + 2 *int(b[3]) + int(b[2]) * 4 + int(b[1])*8]:\n",
    "                key_cand = k^inp_orig\n",
    "                Keys[j][key_cand] = Keys[j][key_cand] + 1"
   ]
  },
  {
   "cell_type": "code",
   "execution_count": 346,
   "id": "8f847ec7",
   "metadata": {
    "scrolled": false
   },
   "outputs": [
    {
     "name": "stdout",
     "output_type": "stream",
     "text": [
      "[[ 61.  59.  71.  72.  47.  45.  54.  78.  53.  75.  64.  63.  67.  59.\n",
      "   55.  60.  46.  82.  68.  72.  54.  71.  62.  53.  60.  44.  55.  76.\n",
      "   48.  69.  71.  60.  70.  56.  63.  70.  59.  64.  68.  65.  48.  57.\n",
      "   51.  66.  58.  90.  75.  60.  67.  60.  56.  62.  55.  67.  76.  61.\n",
      "   57.  79.  64.  73.  70.  64.  67.  50.]\n",
      " [ 65.  67.  71.  74.  46.  65.  66.  71.  68.  55.  63.  58.  49.  66.\n",
      "   67.  49.  64.  57.  62.  54.  66.  76.  64.  59.  60.  65.  66.  63.\n",
      "   58.  62.  69.  58.  73.  63.  60.  78.  55.  55.  74.  55.  61.  69.\n",
      "   56.  64.  78.  77.  75.  62.  64.  66.  66.  99.  55.  67.  65.  66.\n",
      "   60.  73.  76.  65.  72.  66.  66.  58.]\n",
      " [ 67.  55.  78.  65.  52.  64.  65.  56.  61.  75.  70.  64.  56.  49.\n",
      "   63.  55.  65.  59.  70.  67.  60.  49.  80.  59.  63.  72.  67.  56.\n",
      "   65.  64.  63.  58.  70.  87.  74.  60.  67.  93.  76.  63.  61.  58.\n",
      "   73.  79.  64.  79.  70.  51.  64.  62.  62.  67.  64.  54.  62.  59.\n",
      "   74.  62.  64.  58.  55.  63.  55.  66.]\n",
      " [ 72.  68.  70.  76.  65.  70.  89. 191.  56.  60.  68.  76.  66.  54.\n",
      "   74.  63.  76.  61.  58.  63.  58.  51.  77.  72.  87.  60.  64.  71.\n",
      "   70.  63.  64.  68.  60.  70.  61.  64.  67.  60.  64.  83. 101.  97.\n",
      "   66.  70.  73.  80.  64.  66.  64.  71.  77.  71.  64.  74.  67.  59.\n",
      "   71.  60.  51.  57.  62.  69.  75.  71.]\n",
      " [ 62.  62.  58.  59.  67.  71.  65.  83.  61.  70.  65.  72.  68.  64.\n",
      "   67.  71.  76.  58.  62.  70.  76. 117.  63.  66.  69.  74.  68.  73.\n",
      "   53.  58.  85.  76.  70.  59.  78.  69.  69.  59.  64.  83.  66.  65.\n",
      "   63.  81.  65.  61.  76.  60.  63.  62.  71.  68.  68.  65.  63.  61.\n",
      "   77.  71.  56.  61.  67.  68.  63.  69.]\n",
      " [ 73.  70.  68.  60.  59.  62.  61.  52.  54.  64.  73.  72.  77.  80.\n",
      "   53.  69.  64.  58.  72.  82.  80.  51. 180.  76.  81.  63.  77.  81.\n",
      "   69.  66.  83.  77.  75.  84.  62.  73.  60.  61.  67.  59.  65.  74.\n",
      "   64.  79.  60.  59.  68.  79.  65.  76.  75.  66.  54.  64.  72.  64.\n",
      "   69.  66.  66.  68.  60.  78.  68.  65.]\n",
      " [ 75.  55.  73.  68.  67.  68.  67.  63.  56.  68.  57.  69.  95.  69.\n",
      "   46.  54.  62.  68.  68.  65.  78.  67.  56.  65.  58.  74.  72.  66.\n",
      "   63.  65.  60.  66.  59.  59.  65.  58.  61.  67.  60.  51.  65.  56.\n",
      "   70.  61.  62.  57.  62.  71.  73.  70.  55.  66.  63.  70.  53.  63.\n",
      "   60.  58.  73.  49.  74.  55.  62.  63.]\n",
      " [ 62.  80.  63.  70.  68.  58.  66.  71.  71.  66.  64.  59.  64.  56.\n",
      "   56.  62.  60.  53.  73.  71.  53.  58.  67.  63.  66.  82.  59.  70.\n",
      "   62.  58.  57.  54.  45.  50.  71.  77.  75.  65.  58.  83.  79.  69.\n",
      "   54.  59.  67.  76.  60.  53.  57.  55.  61.  64.  65.  45.  75.  65.\n",
      "   49.  67.  66.  60.  53.  59.  72.  72.]]\n"
     ]
    }
   ],
   "source": [
    "print(Keys)"
   ]
  },
  {
   "cell_type": "code",
   "execution_count": 347,
   "id": "3741d889",
   "metadata": {
    "scrolled": false
   },
   "outputs": [
    {
     "name": "stdout",
     "output_type": "stream",
     "text": [
      "S-box\tMax\tMean\tKey\n",
      "S1\t90\t63\t45\n",
      "S2\t99\t65\t51\n",
      "S3\t93\t64\t37\n",
      "S4\t191\t70\t7\n",
      "S5\t117\t68\t21\n",
      "S6\t180\t70\t22\n",
      "S7\t95\t64\t12\n",
      "S8\t83\t64\t39\n"
     ]
    }
   ],
   "source": [
    "maxval = []\n",
    "mean = []\n",
    "keyval = []\n",
    "for i in Keys:\n",
    "    index, value = max(enumerate(i), key=operator.itemgetter(1))\n",
    "    maxval+=[int(value)]\n",
    "    keyval+=[index]\n",
    "    mean+=[int(round(np.mean(i)))]\n",
    "print(\"S-box\"+ \"\\t\" +\"Max\" + \"\\t\" + \"Mean\" + \"\\t\" + \"Key\")\n",
    "for i in range(0,8):\n",
    "    print(\"S\"+ str(i+1) +\"\\t\"+ str(maxval[i]) + \"\\t\" + str(mean[i]) + \"\\t\" + str(keyval[i]))"
   ]
  },
  {
   "cell_type": "markdown",
   "id": "83a32aa2",
   "metadata": {},
   "source": [
    "## Finding the Master Key"
   ]
  },
  {
   "cell_type": "code",
   "execution_count": 354,
   "id": "08cc1c68",
   "metadata": {},
   "outputs": [
    {
     "name": "stdout",
     "output_type": "stream",
     "text": [
      "X11XX1XX01011X100XX11X11000X0000010X11100010X11X1101X011\n"
     ]
    }
   ],
   "source": [
    "s_box_key=\"101101110011XXXXXX000111010101010110001100110110\" #Key obtained so far from S boxes\n",
    "Master_key=['X']*56\n",
    "\n",
    "for i in range(len(s_box_key)):\n",
    "    Master_key[pc2[i]-1]=s_box_key[i]             \n",
    "shifts=[1, 1, 2, 2, 2, 2, 2, 2, 1, 2, 2, 2, 2, 2, 2, 1]     \n",
    "for i in range(0,6):\n",
    "    for j in range(shifts[i]):\n",
    "        temp2=Master_key[27]\n",
    "        temp1=Master_key[55]\n",
    "        for k in range(27,0,-1):\n",
    "            Master_key[k]=Master_key[k-1]\n",
    "            Master_key[k+28]=Master_key[k+27]\n",
    "        Master_key[0]=temp2\n",
    "        Master_key[28]=temp1\n",
    "print(\"\".join(Master_key))\n"
   ]
  },
  {
   "cell_type": "markdown",
   "id": "a1518f4d",
   "metadata": {},
   "source": [
    "## Generating all possible keys using the obtained Master Key"
   ]
  },
  {
   "cell_type": "code",
   "execution_count": 355,
   "id": "34858fc9",
   "metadata": {},
   "outputs": [],
   "source": [
    "#Master key X11XX1XX01011X100XX11X11000X1010010X11110000X11X1101X011\n",
    "possible=[]\n",
    "for i in range(0,2**14):\n",
    "    possible.append(str(i//8192%2)+'11'+str(i//4096%2)+str(i//2048%2)+'1' + str(i//1024%2)+ str(i//512%2)+'01011'+str(i//256%2)+'100'+str(i//128%2) + str(i//64%2)+'11'+str(i//32%2)+'11000' + str(i//16%2) + \"0000010\" + str(i//8%2)+'11100010' + str(i//4%2) + \"11\" + str(i//2%2) + '1101' + str(i%2) + \"011\" + '\\n')\n",
    "# print(len(possible))"
   ]
  },
  {
   "cell_type": "markdown",
   "id": "d66c1f95",
   "metadata": {},
   "source": [
    "## Brute Force to find the Actual Key"
   ]
  },
  {
   "cell_type": "code",
   "execution_count": 356,
   "id": "9b34b9fa",
   "metadata": {},
   "outputs": [],
   "source": [
    "def generate_round_keys(k, ro):\n",
    "    l=k[0:28]     \n",
    "    r=k[28:56]  \n",
    "\n",
    "    #binary round keys\n",
    "    kb = []\n",
    "    #hex round keys\n",
    "    kh  = []\n",
    "    for i in range(0,ro): \n",
    "        #shift bits by n using shift table \n",
    "        l = shift_left(l, shift_table[i]) \n",
    "        r = shift_left(r, shift_table[i]) \n",
    "\n",
    "        #merge\n",
    "        mer=l+r \n",
    "\n",
    "        #compress key from 56 to 48 bits using key compression table\n",
    "        kb+=[permute(mer, key_comp, 48)] \n",
    "        kh+=[bin2hex(permute(mer, key_comp, 48))]\n",
    "    return kb"
   ]
  },
  {
   "cell_type": "code",
   "execution_count": 357,
   "id": "ae3efd2d",
   "metadata": {},
   "outputs": [],
   "source": [
    "def encrypt(pt, kb,ro):  \n",
    "    # Initial Permutation \n",
    "    pt = permute(pt, initial_perm, 64)\n",
    "      \n",
    "    #break into left and right half\n",
    "    l = pt[0:32] \n",
    "    r= pt[32:64] \n",
    "    for i in range(0,ro): \n",
    "        #expand 32 bits to 48 \n",
    "        r_exp = permute(r, exp_d, 48) \n",
    "          \n",
    "        #XOR ith roundkey and r_exp  \n",
    "        r_xor = xor(r_exp,kb[i]) \n",
    "\n",
    "        #substituting the value from s-box table by calculating row and column  \n",
    "        sbox_st = \"\" \n",
    "        for j in range(0,8): \n",
    "            row = bin2dec(int(r_xor[j*6] + r_xor[j*6+5])) \n",
    "            col = bin2dec(int(r_xor[j*6+1] + r_xor[j*6+2] + r_xor[j*6+3] + r_xor[j*6+4])) \n",
    "            value = sbox[j][row][col] \n",
    "            sbox_st = sbox_st+dec2bin(value) \n",
    "              \n",
    "        #rearrange bits   \n",
    "        sbox_st = permute(sbox_st, per, 32) \n",
    "          \n",
    "        #XOR left half and sbox_st \n",
    "        res= xor(l, sbox_st) \n",
    "        l = res        \n",
    "        if(i!=5): \n",
    "            temp = l\n",
    "            l = r\n",
    "            r = temp\n",
    "  \n",
    "    #merge\n",
    "    mer=l+r \n",
    "      \n",
    "    #rearrange bits to get ciphertext \n",
    "    ciphertext = permute(mer, final_perm, 64) \n",
    "    return ciphertext"
   ]
  },
  {
   "cell_type": "code",
   "execution_count": 361,
   "id": "c6de1d8f",
   "metadata": {},
   "outputs": [
    {
     "name": "stdout",
     "output_type": "stream",
     "text": [
      "The Key is: 01101110010111100111101100000000010011100010111111011011\n",
      "\n"
     ]
    }
   ],
   "source": [
    "bin_pt = \"\"\n",
    "for i in \"ffffffffffffffff\":\n",
    "    bin_pt += f2u_mapping[i]\n",
    "bin_ct = \"\"\n",
    "for i in \"sfndfoopejssdfll\":\n",
    "    bin_ct += f2u_mapping[i]\n",
    "\n",
    "    \n",
    "for k in possible:\n",
    "    kb = generate_round_keys(k,6)\n",
    "    if(encrypt(bin_pt,kb,6) == bin_ct):\n",
    "        # required = k\n",
    "        print(\"The Key is: \" + k)\n",
    "        break"
   ]
  },
  {
   "cell_type": "markdown",
   "id": "ca9a7540",
   "metadata": {},
   "source": [
    "## Finding the keys for All Rounds using the Actual Key"
   ]
  },
  {
   "cell_type": "code",
   "execution_count": 360,
   "id": "36667ad7",
   "metadata": {},
   "outputs": [
    {
     "name": "stdout",
     "output_type": "stream",
     "text": [
      "Round 1  111011000100111100000111010111001111110000110100\n",
      "Round 2  011011110011011101100010100110001101100001101101\n",
      "Round 3  111010101101010011101101110000101111111010110000\n",
      "Round 4  110110011100001101011010101110010010111100111001\n",
      "Round 5  001001001101101110111011101110110101101000010010\n",
      "Round 6  101101110011100101000111010101010110001100110110\n"
     ]
    }
   ],
   "source": [
    "key='01101110010111100111101100000000010011100010111111011011'\n",
    "l = key[0:28]     \n",
    "r = key[28:56]  \n",
    "\n",
    "#binary round keys\n",
    "kb = []\n",
    "for i in range(0,6): \n",
    "    #shift bits by n using shift table \n",
    "    l = shift_left(l, shift_table[i]) \n",
    "    r = shift_left(r, shift_table[i]) \n",
    "\n",
    "    #merge\n",
    "    mer=l+r \n",
    "\n",
    "    #compress key from 56 to 48 bits using key compression table\n",
    "    kb.append(permute(mer, key_comp, 48))\n",
    "    print(\"Round \"  + str(i+1) +\"  \"+kb[i])\n"
   ]
  }
 ],
 "metadata": {
  "kernelspec": {
   "display_name": "Python 3",
   "language": "python",
   "name": "python3"
  },
  "language_info": {
   "codemirror_mode": {
    "name": "ipython",
    "version": 3
   },
   "file_extension": ".py",
   "mimetype": "text/x-python",
   "name": "python",
   "nbconvert_exporter": "python",
   "pygments_lexer": "ipython3",
   "version": "3.8.8"
  }
 },
 "nbformat": 4,
 "nbformat_minor": 5
}
